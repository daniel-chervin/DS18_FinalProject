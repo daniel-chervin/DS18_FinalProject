{
 "cells": [
  {
   "cell_type": "code",
   "execution_count": 5,
   "metadata": {},
   "outputs": [],
   "source": [
    "import os\n",
    "import numpy as np\n",
    "import SimpleITK as sitk\n",
    "from glob import glob\n",
    "import torch\n",
    "import torch.nn as nn\n",
    "from torch.utils.data import Dataset, DataLoader\n",
    "from sklearn.model_selection import train_test_split\n",
    "import matplotlib.pyplot as plt"
   ]
  },
  {
   "cell_type": "code",
   "execution_count": 7,
   "metadata": {},
   "outputs": [
    {
     "name": "stdout",
     "output_type": "stream",
     "text": [
      "11.8\n",
      "90100\n",
      "✅ CUDA is available. Using GPU: NVIDIA T600 Laptop GPU\n"
     ]
    }
   ],
   "source": [
    "\n",
    "print(torch.version.cuda)          # Version PyTorch was compiled with\n",
    "print(torch.backends.cudnn.version())  #\n",
    "\n",
    "if torch.cuda.is_available():\n",
    "    print(f\"✅ CUDA is available. Using GPU: {torch.cuda.get_device_name(0)}\")\n",
    "else:\n",
    "    print(\"⚠️ CUDA not available. Using CPU.\")\n",
    "\n",
    "device = torch.device(\"cuda\" if torch.cuda.is_available() else \"cpu\")"
   ]
  },
  {
   "cell_type": "code",
   "execution_count": null,
   "metadata": {},
   "outputs": [],
   "source": [
    "# Dataset that loads 3D NIfTI files from T1 and T2 folders\n",
    "class IXINiftiDataset(Dataset):\n",
    "    def __init__(self, t1_files, t2_files):\n",
    "        self.file_list = list(zip(t1_files, t2_files))\n",
    "\n",
    "    def __len__(self):\n",
    "        return len(self.file_list)\n",
    "\n",
    "    def __getitem__(self, idx):\n",
    "        t1_path, t2_path = self.file_list[idx]\n",
    "        t1_img = sitk.GetArrayFromImage(sitk.ReadImage(t1_path))\n",
    "        t2_img = sitk.GetArrayFromImage(sitk.ReadImage(t2_path))\n",
    "        \n",
    "        # Normalize each channel\n",
    "        t1_img = (t1_img - np.mean(t1_img)) / (np.std(t1_img) + 1e-5)\n",
    "        t2_img = (t2_img - np.mean(t2_img)) / (np.std(t2_img) + 1e-5)\n",
    "        \n",
    "        # Clip intensities\n",
    "        t1_img = np.clip(t1_img, -3, 3)\n",
    "        t2_img = np.clip(t2_img, -3, 3)\n",
    "        \n",
    "        # Stack to form 2-channel input: shape [2, D, H, W]\n",
    "        volume = np.stack([t1_img, t2_img], axis=0)\n",
    "        return torch.tensor(volume, dtype=torch.float32)\n",
    "\n"
   ]
  },
  {
   "cell_type": "code",
   "execution_count": null,
   "metadata": {},
   "outputs": [],
   "source": [
    "class MultiChannelAutoencoder3D(nn.Module):\n",
    "    def __init__(self):\n",
    "        super(MultiChannelAutoencoder3D, self).__init__()\n",
    "        self.encoder = nn.Sequential(\n",
    "            nn.Conv3d(2, 16, 3, padding=1), nn.ReLU(),\n",
    "            nn.MaxPool3d(2),\n",
    "            nn.Conv3d(16, 32, 3, padding=1), nn.ReLU(),\n",
    "            nn.MaxPool3d(2)\n",
    "        )\n",
    "        self.decoder = nn.Sequential(\n",
    "            nn.ConvTranspose3d(32, 16, 2, stride=2), nn.ReLU(),\n",
    "            nn.ConvTranspose3d(16, 2, 2, stride=2), nn.Tanh()\n",
    "        )\n",
    "\n",
    "    def forward(self, x):\n",
    "        return self.decoder(self.encoder(x))\n"
   ]
  },
  {
   "cell_type": "code",
   "execution_count": null,
   "metadata": {},
   "outputs": [],
   "source": [
    "# File paths\n",
    "t1_dir = \"/mnt/data/IXI-T1\"\n",
    "t2_dir = \"/mnt/data/IXI-T2\"\n",
    "t1_files = sorted(glob(os.path.join(t1_dir, '*.nii.gz')))\n",
    "t2_files = sorted(glob(os.path.join(t2_dir, '*.nii.gz')))\n"
   ]
  },
  {
   "cell_type": "code",
   "execution_count": null,
   "metadata": {},
   "outputs": [],
   "source": [
    "# Ensure matching T1 and T2 file counts\n",
    "file_pairs = list(zip(t1_files, t2_files))\n",
    "train_pairs, val_pairs = train_test_split(file_pairs, test_size=0.2, random_state=42)\n"
   ]
  },
  {
   "cell_type": "code",
   "execution_count": null,
   "metadata": {},
   "outputs": [],
   "source": [
    "# Dataloaders\n",
    "train_dataset = IXINiftiDataset([p[0] for p in train_pairs], [p[1] for p in train_pairs])\n",
    "val_dataset = IXINiftiDataset([p[0] for p in val_pairs], [p[1] for p in val_pairs])\n",
    "train_loader = DataLoader(train_dataset, batch_size=1, shuffle=True)\n",
    "val_loader = DataLoader(val_dataset, batch_size=1)\n"
   ]
  },
  {
   "cell_type": "code",
   "execution_count": null,
   "metadata": {},
   "outputs": [],
   "source": [
    "# Training setup\n",
    "device = torch.device(\"cuda\" if torch.cuda.is_available() else \"cpu\")\n",
    "model = MultiChannelAutoencoder3D().to(device)\n",
    "optimizer = torch.optim.Adam(model.parameters(), lr=1e-4)\n",
    "loss_fn = nn.MSELoss()"
   ]
  },
  {
   "cell_type": "code",
   "execution_count": null,
   "metadata": {},
   "outputs": [],
   "source": [
    "# Training loop\n",
    "n_epochs = 5\n",
    "for epoch in range(n_epochs):\n",
    "    model.train()\n",
    "    epoch_loss = 0\n",
    "    for batch in train_loader:\n",
    "        batch = batch.to(device)\n",
    "        optimizer.zero_grad()\n",
    "        recon = model(batch)\n",
    "        loss = loss_fn(recon, batch)\n",
    "        loss.backward()\n",
    "        optimizer.step()\n",
    "        epoch_loss += loss.item()\n",
    "    print(f\"Epoch {epoch+1}/{n_epochs}, Loss: {epoch_loss / len(train_loader):.4f}\")\n",
    "\n"
   ]
  },
  {
   "cell_type": "code",
   "execution_count": null,
   "metadata": {},
   "outputs": [],
   "source": [
    "model.eval()\n",
    "sample = next(iter(val_loader)).to(device)\n",
    "with torch.no_grad():\n",
    "    recon = model(sample)\n",
    "slice_idx = sample.shape[2] // 2\n",
    "fig, axs = plt.subplots(2, 3, figsize=(12, 6))\n",
    "for i in range(2):  # T1 and T2\n",
    "    axs[i, 0].imshow(sample[0, i, slice_idx].cpu(), cmap='gray')\n",
    "    axs[i, 0].set_title(f'Original Modality {i+1}')\n",
    "    axs[i, 1].imshow(recon[0, i, slice_idx].cpu(), cmap='gray')\n",
    "    axs[i, 1].set_title(f'Reconstructed Modality {i+1}')\n",
    "    axs[i, 2].imshow(torch.abs(sample[0, i, slice_idx] - recon[0, i, slice_idx]).cpu(), cmap='hot')\n",
    "    axs[i, 2].set_title(f'Error Map Modality {i+1}')\n",
    "    for j in range(3):\n",
    "        axs[i, j].axis('off')\n",
    "plt.tight_layout()\n",
    "plt.show()"
   ]
  },
  {
   "cell_type": "code",
   "execution_count": null,
   "metadata": {},
   "outputs": [],
   "source": []
  }
 ],
 "metadata": {
  "kernelspec": {
   "display_name": "ds18_ae_monai_cuda_py312",
   "language": "python",
   "name": "python3"
  },
  "language_info": {
   "codemirror_mode": {
    "name": "ipython",
    "version": 3
   },
   "file_extension": ".py",
   "mimetype": "text/x-python",
   "name": "python",
   "nbconvert_exporter": "python",
   "pygments_lexer": "ipython3",
   "version": "3.12.10"
  }
 },
 "nbformat": 4,
 "nbformat_minor": 2
}
