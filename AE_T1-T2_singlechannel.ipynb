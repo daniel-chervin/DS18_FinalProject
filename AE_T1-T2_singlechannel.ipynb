{
 "cells": [
  {
   "cell_type": "code",
   "execution_count": 1,
   "metadata": {},
   "outputs": [],
   "source": [
    "import os\n",
    "import numpy as np\n",
    "import SimpleITK as sitk\n",
    "from glob import glob\n",
    "import torch\n",
    "import torch.nn as nn\n",
    "from torch.utils.data import Dataset, DataLoader\n",
    "from sklearn.model_selection import train_test_split\n"
   ]
  },
  {
   "cell_type": "code",
   "execution_count": 2,
   "metadata": {},
   "outputs": [],
   "source": [
    "# Dataset class that loads each modality (T1 or T2) separately\n",
    "class SingleModalityNiftiDataset(Dataset):\n",
    "    def __init__(self, file_list):\n",
    "        self.file_list = file_list\n",
    "\n",
    "    def __len__(self):\n",
    "        return len(self.file_list)\n",
    "\n",
    "    def __getitem__(self, idx):\n",
    "        path = self.file_list[idx]\n",
    "        image = sitk.GetArrayFromImage(sitk.ReadImage(path)).astype(np.float32)\n",
    "        image = (image - np.mean(image)) / (np.std(image) + 1e-5)\n",
    "        image = np.clip(image, -3, 3)\n",
    "        image = np.expand_dims(image, axis=0)  # Add channel dimension\n",
    "        return torch.tensor(image, dtype=torch.float32)\n",
    "\n",
    "# Define a simple 3D Autoencoder for single-channel input\n",
    "class SingleChannelAutoencoder3D(nn.Module):\n",
    "    def __init__(self):\n",
    "        super(SingleChannelAutoencoder3D, self).__init__()\n",
    "        self.encoder = nn.Sequential(\n",
    "            nn.Conv3d(1, 16, 3, padding=1), nn.ReLU(),\n",
    "            nn.MaxPool3d(2),\n",
    "            nn.Conv3d(16, 32, 3, padding=1), nn.ReLU(),\n",
    "            nn.MaxPool3d(2)\n",
    "        )\n",
    "        self.decoder = nn.Sequential(\n",
    "            nn.ConvTranspose3d(32, 16, 2, stride=2), nn.ReLU(),\n",
    "            nn.ConvTranspose3d(16, 1, 2, stride=2), nn.Tanh()\n",
    "        )\n",
    "\n",
    "    def forward(self, x):\n",
    "        return self.decoder(self.encoder(x))\n"
   ]
  },
  {
   "cell_type": "code",
   "execution_count": 4,
   "metadata": {},
   "outputs": [],
   "source": [
    "# Load and combine all .nii.gz files from both T1 and T2 folders\n",
    "t1_files = sorted(glob(r'D:\\DS18\\data\\IXI-T1_resampled\\*.nii.gz'))\n",
    "#t2_files = sorted(glob(\"/mnt/data/IXI-T2_resampled/*.nii.gz\"))\n",
    "all_files = t1_files # + t2_files\n",
    "\n",
    "# Split into training and validation sets\n",
    "train_files, val_files = train_test_split(all_files, test_size=0.2, random_state=42)\n"
   ]
  },
  {
   "cell_type": "code",
   "execution_count": 5,
   "metadata": {},
   "outputs": [],
   "source": [
    "# Prepare datasets and loaders\n",
    "train_dataset = SingleModalityNiftiDataset(train_files)\n",
    "val_dataset = SingleModalityNiftiDataset(val_files)\n",
    "train_loader = DataLoader(train_dataset, batch_size=1, shuffle=True)\n",
    "val_loader = DataLoader(val_dataset, batch_size=1)\n",
    "\n",
    "# Prepare model and training configuration\n",
    "device = torch.device(\"cuda\" if torch.cuda.is_available() else \"cpu\")\n",
    "model = SingleChannelAutoencoder3D().to(device)\n",
    "optimizer = torch.optim.Adam(model.parameters(), lr=1e-4)\n",
    "loss_fn = nn.MSELoss()"
   ]
  },
  {
   "cell_type": "code",
   "execution_count": 6,
   "metadata": {},
   "outputs": [
    {
     "name": "stdout",
     "output_type": "stream",
     "text": [
      "Epoch 1/5, Loss: 0.4535\n",
      "Epoch 2/5, Loss: 0.2123\n",
      "Epoch 3/5, Loss: 0.1982\n",
      "Epoch 4/5, Loss: 0.1923\n",
      "Epoch 5/5, Loss: 0.1887\n"
     ]
    }
   ],
   "source": [
    "# Train loop (5 epochs)\n",
    "n_epochs = 5\n",
    "history = []\n",
    "for epoch in range(n_epochs):\n",
    "    model.train()\n",
    "    epoch_loss = 0\n",
    "    for batch in train_loader:\n",
    "        batch = batch.to(device)\n",
    "        optimizer.zero_grad()\n",
    "        recon = model(batch)\n",
    "        loss = loss_fn(recon, batch)\n",
    "        loss.backward()\n",
    "        optimizer.step()\n",
    "        epoch_loss += loss.item()\n",
    "    avg_loss = epoch_loss / len(train_loader)\n",
    "    history.append(avg_loss)\n",
    "    print(f\"Epoch {epoch+1}/{n_epochs}, Loss: {avg_loss:.4f}\")"
   ]
  },
  {
   "cell_type": "code",
   "execution_count": 7,
   "metadata": {},
   "outputs": [],
   "source": [
    "torch.save(model.state_dict(), \"AE_T1_single-channel_ixi_ep_1-5.pt\")"
   ]
  },
  {
   "cell_type": "code",
   "execution_count": 8,
   "metadata": {},
   "outputs": [
    {
     "name": "stderr",
     "output_type": "stream",
     "text": [
      "C:\\Users\\DCervin\\AppData\\Local\\Temp\\ipykernel_36428\\805136706.py:2: FutureWarning: You are using `torch.load` with `weights_only=False` (the current default value), which uses the default pickle module implicitly. It is possible to construct malicious pickle data which will execute arbitrary code during unpickling (See https://github.com/pytorch/pytorch/blob/main/SECURITY.md#untrusted-models for more details). In a future release, the default value for `weights_only` will be flipped to `True`. This limits the functions that could be executed during unpickling. Arbitrary objects will no longer be allowed to be loaded via this mode unless they are explicitly allowlisted by the user via `torch.serialization.add_safe_globals`. We recommend you start setting `weights_only=True` for any use case where you don't have full control of the loaded file. Please open an issue on GitHub for any issues related to this experimental feature.\n",
      "  model.load_state_dict(torch.load(\"AE_T1_single-channel_ixi_ep_1-5.pt\"))\n"
     ]
    },
    {
     "name": "stdout",
     "output_type": "stream",
     "text": [
      "Epoch 6/10, Loss: 0.1858\n",
      "Epoch 7/10, Loss: 0.1834\n",
      "Epoch 8/10, Loss: 0.1815\n",
      "Epoch 9/10, Loss: 0.1799\n",
      "Epoch 10/10, Loss: 0.1786\n"
     ]
    }
   ],
   "source": [
    "# 1. Load model checkpoint if saved\n",
    "model.load_state_dict(torch.load(\"AE_T1_single-channel_ixi_ep_1-5.pt\"))\n",
    "model.to(device)\n",
    "\n",
    "# 2. Continue training for more epochs\n",
    "extra_epochs = 5\n",
    "for epoch in range(n_epochs + 1, n_epochs + extra_epochs + 1):\n",
    "    model.train()\n",
    "    epoch_loss = 0\n",
    "    for batch in train_loader:\n",
    "        batch = batch.to(device)\n",
    "        optimizer.zero_grad()\n",
    "        recon = model(batch)\n",
    "        loss = loss_fn(recon, batch)\n",
    "        loss.backward()\n",
    "        optimizer.step()\n",
    "        epoch_loss += loss.item()\n",
    "    avg_loss = epoch_loss / len(train_loader)\n",
    "    print(f\"Epoch {epoch}/{n_epochs + extra_epochs}, Loss: {avg_loss:.4f}\")\n"
   ]
  },
  {
   "cell_type": "code",
   "execution_count": 9,
   "metadata": {},
   "outputs": [],
   "source": [
    "torch.save(model.state_dict(), \"AE_T1_single-channel_ixi_ep_1-10.pt\")"
   ]
  },
  {
   "cell_type": "markdown",
   "metadata": {},
   "source": [
    "##Load & test"
   ]
  },
  {
   "cell_type": "code",
   "execution_count": 10,
   "metadata": {},
   "outputs": [],
   "source": [
    "import torch\n",
    "import SimpleITK as sitk\n",
    "import numpy as np\n",
    "from pathlib import Path\n",
    "import torch.nn as nn"
   ]
  },
  {
   "cell_type": "code",
   "execution_count": 11,
   "metadata": {},
   "outputs": [
    {
     "name": "stderr",
     "output_type": "stream",
     "text": [
      "C:\\Users\\DCervin\\AppData\\Local\\Temp\\ipykernel_36428\\1448568010.py:7: FutureWarning: You are using `torch.load` with `weights_only=False` (the current default value), which uses the default pickle module implicitly. It is possible to construct malicious pickle data which will execute arbitrary code during unpickling (See https://github.com/pytorch/pytorch/blob/main/SECURITY.md#untrusted-models for more details). In a future release, the default value for `weights_only` will be flipped to `True`. This limits the functions that could be executed during unpickling. Arbitrary objects will no longer be allowed to be loaded via this mode unless they are explicitly allowlisted by the user via `torch.serialization.add_safe_globals`. We recommend you start setting `weights_only=True` for any use case where you don't have full control of the loaded file. Please open an issue on GitHub for any issues related to this experimental feature.\n",
      "  model.load_state_dict(torch.load(model_path, map_location=device))\n"
     ]
    }
   ],
   "source": [
    "# Load model\n",
    "device = torch.device(\"cuda\" if torch.cuda.is_available() else \"cpu\")\n",
    "model = SingleChannelAutoencoder3D().to(device)\n",
    "\n",
    "model_path = \"AE_T1_single-channel_ixi_ep_1-10.pt\"\n",
    "if Path(model_path).exists():\n",
    "    model.load_state_dict(torch.load(model_path, map_location=device))\n",
    "    model.eval()\n",
    "else:\n",
    "    raise FileNotFoundError(\"Model file not found.\")"
   ]
  },
  {
   "cell_type": "code",
   "execution_count": 16,
   "metadata": {},
   "outputs": [],
   "source": [
    "# Load input volume\n",
    "#input_path = r\"D:\\DS18\\data\\IXI-T1_resampled\\IXI002-Guys-0828-T1.nii.gz\"\n",
    "input_path = r\"D:\\DS18\\data\\BrainTumour\\imagesTr\\T1_resampled\\BRATS_001_T1.nii.gz\"\n",
    "input_img = sitk.ReadImage(input_path)\n",
    "input_arr = sitk.GetArrayFromImage(input_img).astype(np.float32)\n",
    "\n",
    "# Normalize input\n",
    "normalized_input = (input_arr - np.mean(input_arr)) / (np.std(input_arr) + 1e-5)\n",
    "normalized_input = np.clip(normalized_input, -3, 3)\n",
    "input_tensor = torch.tensor(normalized_input[None, None, ...], dtype=torch.float32).to(device)\n"
   ]
  },
  {
   "cell_type": "code",
   "execution_count": 17,
   "metadata": {},
   "outputs": [
    {
     "data": {
      "text/plain": [
       "('reconstructed_volume.nii.gz', 'error_heatmap.nii.gz')"
      ]
     },
     "execution_count": 17,
     "metadata": {},
     "output_type": "execute_result"
    }
   ],
   "source": [
    "# Reconstruct\n",
    "with torch.no_grad():\n",
    "    reconstructed = model(input_tensor).cpu().numpy()[0, 0]\n",
    "\n",
    "# Compute reconstruction error map\n",
    "error_map = np.square(normalized_input - reconstructed).astype(np.float32)\n",
    "\n",
    "# Convert to SimpleITK images\n",
    "recon_img = sitk.GetImageFromArray(reconstructed)\n",
    "recon_img.CopyInformation(input_img)\n",
    "\n",
    "error_img = sitk.GetImageFromArray(error_map)\n",
    "error_img.CopyInformation(input_img)\n",
    "\n",
    "# Save outputs\n",
    "recon_out_path = \"reconstructed_volume.nii.gz\"\n",
    "error_out_path = \"error_heatmap.nii.gz\"\n",
    "sitk.WriteImage(recon_img, recon_out_path)\n",
    "sitk.WriteImage(error_img, error_out_path)\n",
    "\n",
    "recon_out_path, error_out_path"
   ]
  },
  {
   "cell_type": "code",
   "execution_count": null,
   "metadata": {},
   "outputs": [],
   "source": []
  },
  {
   "cell_type": "code",
   "execution_count": null,
   "metadata": {},
   "outputs": [],
   "source": []
  },
  {
   "cell_type": "code",
   "execution_count": null,
   "metadata": {},
   "outputs": [],
   "source": []
  }
 ],
 "metadata": {
  "kernelspec": {
   "display_name": "ds18_ae_monai_cuda_py312",
   "language": "python",
   "name": "python3"
  },
  "language_info": {
   "codemirror_mode": {
    "name": "ipython",
    "version": 3
   },
   "file_extension": ".py",
   "mimetype": "text/x-python",
   "name": "python",
   "nbconvert_exporter": "python",
   "pygments_lexer": "ipython3",
   "version": "3.12.10"
  }
 },
 "nbformat": 4,
 "nbformat_minor": 2
}
